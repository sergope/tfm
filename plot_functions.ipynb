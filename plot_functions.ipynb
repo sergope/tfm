{
  "nbformat": 4,
  "nbformat_minor": 0,
  "metadata": {
    "colab": {
      "name": "plot_functions.ipynb",
      "provenance": [],
      "collapsed_sections": [],
      "authorship_tag": "ABX9TyMlMD4KeFbTMPsHhipKqKSk",
      "include_colab_link": true
    },
    "kernelspec": {
      "name": "python3",
      "display_name": "Python 3"
    }
  },
  "cells": [
    {
      "cell_type": "markdown",
      "metadata": {
        "id": "view-in-github",
        "colab_type": "text"
      },
      "source": [
        "<a href=\"https://colab.research.google.com/github/sergope/tfm/blob/main/plot_functions.ipynb\" target=\"_parent\"><img src=\"https://colab.research.google.com/assets/colab-badge.svg\" alt=\"Open In Colab\"/></a>"
      ]
    },
    {
      "cell_type": "code",
      "metadata": {
        "id": "GMelzgibgHcY",
        "outputId": "5232e783-6c6f-46b2-b4a5-1b2bf0645589",
        "colab": {
          "base_uri": "https://localhost:8080/",
          "height": 34
        }
      },
      "source": [
        "# Conectar el notebook con la cuenta de gdrive\n",
        "from google.colab import drive\n",
        "drive.mount('/content/drive/', force_remount=False)\n",
        "\n",
        "BASE_FOLDER = 'drive/My Drive/TFM/resources/'"
      ],
      "execution_count": null,
      "outputs": [
        {
          "output_type": "stream",
          "text": [
            "Mounted at /content/drive/\n"
          ],
          "name": "stdout"
        }
      ]
    },
    {
      "cell_type": "code",
      "metadata": {
        "id": "eacbW9XLfh9-"
      },
      "source": [
        "import pandas as pd\n",
        "import matplotlib.pyplot as plt\n",
        "import matplotlib.dates as mdates"
      ],
      "execution_count": null,
      "outputs": []
    },
    {
      "cell_type": "code",
      "metadata": {
        "id": "W_Q0U43IfR8M"
      },
      "source": [
        "def make_plot_block(df, forecast_df, start_date, end_date, ax=None): \n",
        "    date_rng = pd.date_range(start_date, end_date, freq='D')\n",
        "    date_filter = pd.Series(date_rng.format())\n",
        "    forecast_df = forecast_df[forecast_df['ds'].isin(list(date_filter))]\n",
        "    df = df[df['ds'].isin(list(date_filter))]\n",
        "\n",
        "    forecast_df = forecast_df.set_index(forecast_df['ds'])\n",
        "    df = df.set_index(df['ds'])\n",
        "\n",
        "\n",
        "    forecast_df.loc[:,'yhat'].plot(lw=2, ax=ax, color='r', ls='-', label='forecasts')\n",
        "\n",
        "    ax.fill_between(forecast_df.index, forecast_df.loc[:,'yhat_lower'], forecast_df.loc[:,'yhat_upper'], color='coral', alpha=0.3)\n",
        "\n",
        "    df.loc[:,'y'].plot(lw=2, ax=ax, color='steelblue', ls='-', label='observations')\n",
        "\n",
        "    ax.grid(ls=':')\n",
        "    ax.legend(fontsize=15)\n",
        "    [l.set_fontsize(13) for l in ax.xaxis.get_ticklabels()]\n",
        "    [l.set_fontsize(13) for l in ax.yaxis.get_ticklabels()]\n",
        "\n",
        "    ax.set_xlim([start_date, end_date])\n",
        "    \n",
        "    ax.set_ylabel('pollution level', fontsize=15)\n",
        "    ax.set_xlabel('', fontsize=15)\n",
        "\n",
        "    ax.set_title(f'{start_date} to {end_date}', fontsize=18)\n"
      ],
      "execution_count": null,
      "outputs": []
    }
  ]
}