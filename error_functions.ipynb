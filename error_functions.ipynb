{
  "nbformat": 4,
  "nbformat_minor": 0,
  "metadata": {
    "colab": {
      "name": "error_functions.ipynb",
      "provenance": [],
      "collapsed_sections": [],
      "authorship_tag": "ABX9TyN2//QPgA8LovB5K+lfmc+z",
      "include_colab_link": true
    },
    "kernelspec": {
      "name": "python3",
      "display_name": "Python 3"
    }
  },
  "cells": [
    {
      "cell_type": "markdown",
      "metadata": {
        "id": "view-in-github",
        "colab_type": "text"
      },
      "source": [
        "<a href=\"https://colab.research.google.com/github/sergope/tfm/blob/main/error_functions.ipynb\" target=\"_parent\"><img src=\"https://colab.research.google.com/assets/colab-badge.svg\" alt=\"Open In Colab\"/></a>"
      ]
    },
    {
      "cell_type": "code",
      "metadata": {
        "id": "1E_m8chB5YEm"
      },
      "source": [
        "# Cálculo RMSE\n",
        "\n",
        "from sklearn.metrics import mean_squared_error\n",
        "from math import sqrt\n",
        "import pandas as pd\n",
        "import numpy as np"
      ],
      "execution_count": null,
      "outputs": []
    },
    {
      "cell_type": "code",
      "metadata": {
        "id": "6ePtAr5R73wY"
      },
      "source": [
        "def filter_by_date():\n",
        "  dates = pd.date_range(start = date_init, end = date_end, freq='D').strftime('%Y-%m-%d')\n",
        "  merge_dates = merged_df[merged_df['ds'].isin(list(dates))]\n",
        "  forecast_dates = forecast_df[forecast_df['ds'].isin(list(dates))]\n"
      ],
      "execution_count": null,
      "outputs": []
    },
    {
      "cell_type": "code",
      "metadata": {
        "id": "wczZUulT5jTv"
      },
      "source": [
        "# Cálculo RMSE\n",
        "def calculate_rmse(merged_df, forecast_df, date_init, date_end):\n",
        "  dates = pd.date_range(start = date_init, end = date_end, freq='D').strftime('%Y-%m-%d')\n",
        "  merge_dates = merged_df[merged_df['ds'].isin(list(dates))]\n",
        "  forecast_dates = forecast_df[forecast_df['ds'].isin(list(dates))]\n",
        "\n",
        "  y_actual = merge_dates['y']\n",
        "  y_predicted = forecast_dates['yhat']\n",
        "\n",
        "  rmse = sqrt(mean_squared_error(y_actual, y_predicted))\n",
        "  return rmse"
      ],
      "execution_count": null,
      "outputs": []
    },
    {
      "cell_type": "code",
      "metadata": {
        "id": "Ih2Xo-Mh6CaP"
      },
      "source": [
        "# Check True and False positives\n",
        "\n",
        "def date_list(df_merged, df_forecast, init, end):\n",
        "  date_ini = df_merged['ds'][init].strftime('%Y-%m-%d')\n",
        "  date_end = df_merged['ds'][init+6].strftime('%Y-%m-%d')\n",
        "\n",
        "  if date_end == df_merged['ds'][end].strftime('%Y-%m-%d'):\n",
        "    return []\n",
        "\n",
        "  list_dates = pd.date_range(start =date_ini, end = date_end, freq='D').strftime('%Y-%m-%d')\n",
        "  return list_dates\n",
        "\n",
        "def add_mean_to_row(row):\n",
        "  return (row['yhat'] + row['yhat_upper']) / 2\n",
        "\n",
        "def check_warnings(df1, df2, limit):\n",
        "  evaluation = {\n",
        "      'true_positive': False,\n",
        "      'false_positive': False,\n",
        "      'true_negative': False,\n",
        "      'false_negative': False,\n",
        "      \n",
        "  }\n",
        "\n",
        "  len_df1 = len(df1[df1['y'] >= limit ])\n",
        "  df2['yhat_mean'] = df2.apply(lambda row: add_mean_to_row(row), axis=1)\n",
        "  len_df2 = len(df2[df2['yhat_mean'] >= limit ])\n",
        "\n",
        "  if len_df1 == len_df2:\n",
        "    if len_df1 == 0:\n",
        "      evaluation['true_negative'] = True\n",
        "      return evaluation\n",
        "    else:\n",
        "      evaluation['true_positive'] = True\n",
        "      return evaluation\n",
        "\n",
        "  else:\n",
        "    if len_df1 > len_df2:\n",
        "      evaluation['false_negative'] = True\n",
        "      return evaluation\n",
        "    else:\n",
        "      evaluation['false_positive'] = True\n",
        "      return evaluation\n",
        "\n",
        "\n",
        "def check_week(merged_df, forecast_df, date_init, date_end, limit):\n",
        "  true_positive = 0\n",
        "  false_positive = 0\n",
        "  true_negative = 0\n",
        "  false_negative = 0\n",
        "\n",
        "  dates = pd.date_range(start = date_init, end = date_end, freq='D').strftime('%Y-%m-%d')\n",
        "  merge_dates = merged_df[merged_df['ds'].isin(list(dates))]\n",
        "  forecast_dates = forecast_df[forecast_df['ds'].isin(list(dates))]\n",
        "\n",
        "  forecast_dates.reset_index(drop=True, inplace=True)\n",
        "  merge_dates.reset_index(drop=True, inplace=True)\n",
        "\n",
        "  for i in np.arange(0,merge_dates.count()[0]):\n",
        "    init = i\n",
        "    end = merge_dates.count()[0] - 1 \n",
        "    dates = date_list(merge_dates, forecast_dates, init, end)\n",
        "\n",
        "    if not len(dates):\n",
        "      print('true_positive = ' + str(true_positive))\n",
        "      print('true_negative = ' + str(true_negative))\n",
        "      print('false_positive = ' + str(false_positive))\n",
        "      print('false_negative = ' + str(false_negative))\n",
        "      return\n",
        "\n",
        "    merged_copy = merge_dates[merge_dates['ds'].isin(list(dates))].copy()\n",
        "    forecast_copy = forecast_dates[forecast_dates['ds'].isin(list(dates))].copy()\n",
        "\n",
        "    result = check_warnings_2(merged_copy, forecast_copy, limit)\n",
        "\n",
        "    if result['true_positive']:\n",
        "      true_positive += 1\n",
        "      pass\n",
        "    elif result['false_positive']:\n",
        "      false_positive += 1\n",
        "      pass\n",
        "    elif result['true_negative']:\n",
        "      true_negative += 1\n",
        "      pass\n",
        "    elif result['false_negative']:\n",
        "      false_negative += 1\n",
        "      pass"
      ],
      "execution_count": null,
      "outputs": []
    },
    {
      "cell_type": "code",
      "metadata": {
        "id": "hgKyurFK6h6Y"
      },
      "source": [
        ""
      ],
      "execution_count": null,
      "outputs": []
    }
  ]
}