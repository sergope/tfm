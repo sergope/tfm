{
  "nbformat": 4,
  "nbformat_minor": 0,
  "metadata": {
    "colab": {
      "name": "prophet_functions.ipynb",
      "provenance": [],
      "collapsed_sections": [],
      "authorship_tag": "ABX9TyO4Yk4jfImwCynobtaZ821k",
      "include_colab_link": true
    },
    "kernelspec": {
      "name": "python3",
      "display_name": "Python 3"
    }
  },
  "cells": [
    {
      "cell_type": "markdown",
      "metadata": {
        "id": "view-in-github",
        "colab_type": "text"
      },
      "source": [
        "<a href=\"https://colab.research.google.com/github/sergope/tfm/blob/main/prophet_functions.ipynb\" target=\"_parent\"><img src=\"https://colab.research.google.com/assets/colab-badge.svg\" alt=\"Open In Colab\"/></a>"
      ]
    },
    {
      "cell_type": "code",
      "metadata": {
        "id": "aM5RWxYIleOF"
      },
      "source": [
        "# !pip install utils"
      ],
      "execution_count": null,
      "outputs": []
    },
    {
      "cell_type": "code",
      "metadata": {
        "id": "STRvKsjTCCVZ"
      },
      "source": [
        "# import utils"
      ],
      "execution_count": null,
      "outputs": []
    },
    {
      "cell_type": "code",
      "metadata": {
        "id": "nvxs-piEghbH",
        "outputId": "5a1ee1ce-7139-4366-a7dc-ed8916ea3d71",
        "colab": {
          "base_uri": "https://localhost:8080/",
          "height": 34
        }
      },
      "source": [
        "# Conectar el notebook con la cuenta de gdrive\n",
        "from google.colab import drive\n",
        "drive.mount('/content/drive/', force_remount=False)\n",
        "\n",
        "BASE_FOLDER = 'drive/My Drive/TFM/resources/'"
      ],
      "execution_count": null,
      "outputs": [
        {
          "output_type": "stream",
          "text": [
            "Drive already mounted at /content/drive/; to attempt to forcibly remount, call drive.mount(\"/content/drive/\", force_remount=True).\n"
          ],
          "name": "stdout"
        }
      ]
    },
    {
      "cell_type": "code",
      "metadata": {
        "id": "fDZhc55lDvoI"
      },
      "source": [
        "import pandas as pd\n",
        "import numpy as np\n",
        "\n",
        "from fbprophet import Prophet\n",
        "from fbprophet.plot import plot_plotly, plot_components_plotly\n",
        "from fbprophet.diagnostics import cross_validation\n",
        "from fbprophet.diagnostics import performance_metrics\n",
        "from fbprophet.plot import plot_cross_validation_metric\n"
      ],
      "execution_count": null,
      "outputs": []
    },
    {
      "cell_type": "code",
      "metadata": {
        "id": "53-AD6YkAIPS",
        "outputId": "1def89d2-edc2-4c88-fa1e-4996da08b3f5",
        "colab": {
          "base_uri": "https://localhost:8080/",
          "height": 51
        }
      },
      "source": [
        "%run 'drive/My Drive/TFM/normalize_data_functions'.ipynb\n",
        "%run 'drive/My Drive/TFM/aemet'.ipynb"
      ],
      "execution_count": null,
      "outputs": [
        {
          "output_type": "stream",
          "text": [
            "Drive already mounted at /content/drive/; to attempt to forcibly remount, call drive.mount(\"/content/drive/\", force_remount=True).\n",
            "Drive already mounted at /content/drive/; to attempt to forcibly remount, call drive.mount(\"/content/drive/\", force_remount=True).\n"
          ],
          "name": "stdout"
        }
      ]
    },
    {
      "cell_type": "code",
      "metadata": {
        "id": "jCs4TLJyAwtS"
      },
      "source": [
        "# def prophet_prediction(df, periods_number, options):\n",
        "#   m = Prophet()\n",
        "#   if options and options[\"holidays\"]:\n",
        "#     m.add_country_holidays(country_name='Spain')\n",
        "\n",
        "#   m.fit(df)\n",
        "#   future = m.make_future_dataframe(periods=periods_number)\n",
        "#   future.tail()\n",
        "\n",
        "#   forecast = m.predict(future)\n",
        "#   print(forecast[['ds', 'yhat', 'yhat_lower', 'yhat_upper']].tail())\n",
        "\n",
        "#   fig1 = m.plot(forecast)\n",
        "#   fig2 = m.plot_components(forecast)\n",
        "#   # fig3 = plot_plotly(m, forecast)\n",
        "\n",
        "#   return forecast"
      ],
      "execution_count": null,
      "outputs": []
    },
    {
      "cell_type": "code",
      "metadata": {
        "id": "o-_B2-1WQmJB"
      },
      "source": [
        "def prophet_prediction(df, periods_number, options):\n",
        "  yearly_order = options[\"yearly_order\"] if options and options[\"yearly_order\"] else 10\n",
        "  weekly_order = options[\"weekly_order\"] if options and options[\"weekly_order\"] else 10\n",
        "  m = Prophet(weekly_seasonality=weekly_order, yearly_seasonality = yearly_order)\n",
        "  \n",
        "  if options and options[\"holidays\"]:\n",
        "    m.add_country_holidays(country_name='Spain')\n",
        "\n",
        "\n",
        "  df['on_workday'] = df['ds'].apply(is_workday)\n",
        "  df['off_workday'] = ~df['ds'].apply(is_workday)\n",
        "  m.add_seasonality(name='weekly_on_workday', period=7, fourier_order=10, condition_name='on_workday')\n",
        "  m.add_seasonality(name='weekly_off_workday', period=7, fourier_order=3, condition_name='off_workday')\n",
        "\n",
        "  m.fit(df)\n",
        "  future = m.make_future_dataframe(periods=periods_number)\n",
        "  future.tail()\n",
        "\n",
        "  future['on_workday'] = future['ds'].apply(is_workday)\n",
        "  future['off_workday'] = ~future['ds'].apply(is_workday)\n",
        "\n",
        "  forecast = m.predict(future)\n",
        "  print(forecast[['ds', 'yhat', 'yhat_lower', 'yhat_upper']].tail())\n",
        "\n",
        "  if options and options[\"cross_validations\"]:\n",
        "    df_cv = cross_validation(m, initial='730 days', period='180 days', horizon = '365 days', parallel=\"processes\")\n",
        "    # df_cv = cross_validation(m, horizon = '365 days', parallel=\"processes\")\n",
        "    df_p = performance_metrics(df_cv)\n",
        "    print(df_p)\n",
        "    if options[\"figs_cross_validations\"]:\n",
        "      for fig in options[\"figs_cross_validations\"]:\n",
        "        plot_cross_validation_metric(df_cv, metric = fig)\n",
        "\n",
        "  if options and options[\"plot_figures\"]:\n",
        "    fig1 = m.plot(forecast)\n",
        "    fig2 = m.plot_components(forecast)\n",
        "    # fig3 = plot_plotly(m, forecast)\n",
        "\n",
        "  return forecast"
      ],
      "execution_count": null,
      "outputs": []
    },
    {
      "cell_type": "code",
      "metadata": {
        "id": "lk8FPODjR5wO"
      },
      "source": [
        "def predict_one_magnitude(file_name, magnitude, periods, options):\n",
        "  df = prophet_data_normalized_one_magnitude(file_name, magnitude)\n",
        "  forecast = prophet_prediction(df, periods, options)\n",
        "\n",
        "  return {'forecast': forecast, 'df': df}"
      ],
      "execution_count": null,
      "outputs": []
    },
    {
      "cell_type": "code",
      "metadata": {
        "id": "SCu74NtI36g0"
      },
      "source": [
        "def is_workday(ds):\n",
        "    date = pd.to_datetime(ds)\n",
        "    return (date.dayofweek > 4)\n"
      ],
      "execution_count": null,
      "outputs": []
    },
    {
      "cell_type": "code",
      "metadata": {
        "id": "g7sPl4T0lexy"
      },
      "source": [
        "def prophet_prediction_with_regresors(df, periods_number, regressors, future_aemet, options):\n",
        "  yearly_order = options[\"yearly_order\"] if options and options[\"yearly_order\"] else 10\n",
        "  weekly_order = options[\"weekly_order\"] if options and options[\"weekly_order\"] else 10\n",
        "  # m = Prophet(weekly_seasonality=weekly_order, yearly_seasonality = yearly_order)\n",
        "  m = Prophet(weekly_seasonality=False, yearly_seasonality = yearly_order)\n",
        "\n",
        "  if options and options[\"holidays\"]:\n",
        "    m.add_country_holidays(country_name='Spain')\n",
        "\n",
        "  for regressor in regressors:\n",
        "    # m.add_regressor(regressor, prior_scale=0.5, mode='multiplicative')\n",
        "    # m.add_regressor(regressor, prior_scale=2)\n",
        "    m.add_regressor(regressor)\n",
        "\n",
        "\n",
        "  df['on_workday'] = df['ds'].apply(is_workday)\n",
        "  df['off_workday'] = ~df['ds'].apply(is_workday)\n",
        "  m.add_seasonality(name='weekly_on_workday', period=7, fourier_order=10, condition_name='on_workday')\n",
        "  m.add_seasonality(name='weekly_off_workday', period=7, fourier_order=3, condition_name='off_workday')\n",
        "  # print(df)\n",
        "\n",
        "  m.fit(df)\n",
        "\n",
        "\n",
        "  # Provisional\n",
        "  # print('porvisional')\n",
        "  future_aemet['on_workday'] = future_aemet['ds'].apply(is_workday)\n",
        "  future_aemet['off_workday'] = ~future_aemet['ds'].apply(is_workday)\n",
        "  # print(future_aemet)\n",
        "\n",
        "  forecast = m.predict(future_aemet)\n",
        "  print(forecast[['ds', 'yhat', 'yhat_lower', 'yhat_upper']])\n",
        "\n",
        "  if options and options[\"cross_validations\"]:\n",
        "    # df_cv = cross_validation(m, initial='730 days', period='180 days', horizon = '365 days', parallel=\"processes\")\n",
        "    df_cv = cross_validation(m, horizon = '365 days', parallel=\"processes\")\n",
        "    df_p = performance_metrics(df_cv)\n",
        "    print(df_p)\n",
        "    if options[\"figs_cross_validations\"]:\n",
        "      for fig in options[\"figs_cross_validations\"]:\n",
        "        plot_cross_validation_metric(df_cv, metric = fig)\n",
        "\n",
        "\n",
        "  if options and options[\"plot_figures\"]:\n",
        "    fig1 = m.plot(forecast)\n",
        "    fig2 = m.plot_components(forecast)\n",
        "    # fig3 = plot_plotly(m, forecast)\n",
        "  \n",
        "  return forecast"
      ],
      "execution_count": null,
      "outputs": []
    },
    {
      "cell_type": "code",
      "metadata": {
        "id": "CUF-wrmWle0L"
      },
      "source": [
        "def predict_one_magnitude_with_aemet(file_name_magnitude, magnitude, file_name_aemet, columns_to_filter, periods_number, options):\n",
        "  df_magnitude = prophet_data_normalized_one_magnitude(file_name_magnitude, magnitude)\n",
        "  df_aemet = normalize_aemet_data(file_name_aemet, columns_to_filter)\n",
        "  df_merged = pd.merge(df_magnitude, df_aemet, on='ds')\n",
        "\n",
        "  future_aemet = filter_aemet_data_by_date(df_aemet, df_merged['ds'][0], '2020-01-07', columns_to_filter)\n",
        "\n",
        "  table = filter_columns(df_merged, ['ds', 'y'])\n",
        "\n",
        "  forecast = prophet_prediction_with_regresors(df_merged, periods_number, columns_to_filter, future_aemet, options)\n",
        "  \n",
        "  return {'forecast': forecast, 'df_merged': df_merged}"
      ],
      "execution_count": null,
      "outputs": []
    },
    {
      "cell_type": "code",
      "metadata": {
        "id": "qTLuiT_i3w2e"
      },
      "source": [
        ""
      ],
      "execution_count": null,
      "outputs": []
    },
    {
      "cell_type": "code",
      "metadata": {
        "id": "aesgS7iF3w5W"
      },
      "source": [
        ""
      ],
      "execution_count": null,
      "outputs": []
    },
    {
      "cell_type": "code",
      "metadata": {
        "id": "5WfzkRMY3w8f"
      },
      "source": [
        ""
      ],
      "execution_count": null,
      "outputs": []
    },
    {
      "cell_type": "code",
      "metadata": {
        "id": "BnGKV2-s3w_g"
      },
      "source": [
        ""
      ],
      "execution_count": null,
      "outputs": []
    }
  ]
}